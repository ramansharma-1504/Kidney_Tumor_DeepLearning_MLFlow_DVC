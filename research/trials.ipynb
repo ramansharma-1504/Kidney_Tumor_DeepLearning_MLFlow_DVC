{
 "cells": [
  {
   "cell_type": "code",
   "execution_count": 1,
   "metadata": {},
   "outputs": [
    {
     "name": "stdout",
     "output_type": "stream",
     "text": [
      "hello world\n"
     ]
    }
   ],
   "source": [
    "print(\"hello world\")"
   ]
  },
  {
   "cell_type": "code",
   "execution_count": 2,
   "metadata": {},
   "outputs": [
    {
     "data": {
      "text/plain": [
       "5"
      ]
     },
     "execution_count": 2,
     "metadata": {},
     "output_type": "execute_result"
    }
   ],
   "source": [
    "2+3"
   ]
  },
  {
   "cell_type": "markdown",
   "metadata": {},
   "source": [
    "Download Input file data from google drive"
   ]
  },
  {
   "cell_type": "code",
   "execution_count": 2,
   "metadata": {},
   "outputs": [
    {
     "name": "stderr",
     "output_type": "stream",
     "text": [
      "Downloading...\n",
      "From (uriginal): https://drive.google.com/uc?/export=download&id=1o09llkLvfXRipQTztWiTfZD20M4bxLoU\n",
      "From (redirected): https://drive.google.com/uc?/export=download&id=1o09llkLvfXRipQTztWiTfZD20M4bxLoU&confirm=t&uuid=d84ef526-74a9-49fb-ae14-53b1268a65ca\n",
      "To: /Users/ramansharma/Raman/Learning/AIProjects/DeepLearningKidneyTumor/Kidney_Tumor_DeepLearning_MLFlow_DVC/research/KidneyTumorDataset.zip\n",
      "100%|██████████| 50.1M/50.1M [00:05<00:00, 9.05MB/s]\n"
     ]
    },
    {
     "data": {
      "text/plain": [
       "'KidneyTumorDataset.zip'"
      ]
     },
     "execution_count": 2,
     "metadata": {},
     "output_type": "execute_result"
    }
   ],
   "source": [
    "import gdown\n",
    "url=\"https://drive.google.com/file/d/1o09llkLvfXRipQTztWiTfZD20M4bxLoU/view?usp=share_link\"\n",
    "file_id=url.split(\"/\")[-2]\n",
    "prefix='https://drive.google.com/uc?/export=download&id='\n",
    "gdown.download(prefix+file_id, 'KidneyTumorDataset.zip')"
   ]
  },
  {
   "cell_type": "markdown",
   "metadata": {},
   "source": []
  }
 ],
 "metadata": {
  "kernelspec": {
   "display_name": "cnncls",
   "language": "python",
   "name": "python3"
  },
  "language_info": {
   "codemirror_mode": {
    "name": "ipython",
    "version": 3
   },
   "file_extension": ".py",
   "mimetype": "text/x-python",
   "name": "python",
   "nbconvert_exporter": "python",
   "pygments_lexer": "ipython3",
   "version": "3.8.18"
  }
 },
 "nbformat": 4,
 "nbformat_minor": 2
}
